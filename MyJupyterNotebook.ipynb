{
 "cells": [
  {
   "attachments": {},
   "cell_type": "markdown",
   "id": "b0e0177b",
   "metadata": {},
   "source": [
    "<center>\n",
    "    <img src=\"https://cf-courses-data.s3.us.cloud-object-storage.appdomain.cloud/IBMDeveloperSkillsNetwork-DS0105EN-SkillsNetwork/labs/Module2/images/SN_web_lightmode.png\" width=\"300\" alt=\"cognitiveclass.ai logo\">\n",
    "</center>\n"
   ]
  },
  {
   "cell_type": "markdown",
   "id": "ac1f2b49",
   "metadata": {},
   "source": [
    "# My Jupyter Notebook on IBM Watson Studio"
   ]
  },
  {
   "cell_type": "markdown",
   "id": "a5459c6a",
   "metadata": {},
   "source": [
    "<b>Hennadii Balashov</b><br>Statistical Data Analyst"
   ]
  },
  {
   "cell_type": "markdown",
   "id": "e853191e",
   "metadata": {},
   "source": [
    "<i>I am interested in data science, as in todays world, this field is a natural evolution of the other two much older fields I am very interested in: Economics and Statistics.</i>"
   ]
  },
  {
   "cell_type": "markdown",
   "id": "d2723e87",
   "metadata": {},
   "source": [
    "### The code in the next cell takes 5 and rises it to the 3rd power."
   ]
  },
  {
   "cell_type": "code",
   "execution_count": 5,
   "id": "08f99aef",
   "metadata": {
    "scrolled": true
   },
   "outputs": [
    {
     "data": {
      "text/plain": [
       "125"
      ]
     },
     "execution_count": 5,
     "metadata": {},
     "output_type": "execute_result"
    }
   ],
   "source": [
    "5**3"
   ]
  },
  {
   "cell_type": "markdown",
   "id": "a4a7e98a",
   "metadata": {},
   "source": [
    "-----"
   ]
  },
  {
   "cell_type": "markdown",
   "id": "24b68695",
   "metadata": {},
   "source": [
    ">The curious mind embraces science; the gifted and sensitive, the arts; the practical, business; the leftover becomes an economist. **Nassim Nicholas Taleb**"
   ]
  },
  {
   "cell_type": "markdown",
   "id": "8b790a42",
   "metadata": {},
   "source": [
    "* Microeconomics\n",
    "* Macroeconomics\n",
    "* Econometrics\n",
    "* Mathematical Economics"
   ]
  }
 ],
 "metadata": {
  "kernelspec": {
   "display_name": "Python 3 (ipykernel)",
   "language": "python",
   "name": "python3"
  },
  "language_info": {
   "codemirror_mode": {
    "name": "ipython",
    "version": 3
   },
   "file_extension": ".py",
   "mimetype": "text/x-python",
   "name": "python",
   "nbconvert_exporter": "python",
   "pygments_lexer": "ipython3",
   "version": "3.9.13"
  }
 },
 "nbformat": 4,
 "nbformat_minor": 5
}
